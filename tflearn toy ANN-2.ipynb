{
 "cells": [
  {
   "cell_type": "code",
   "execution_count": 28,
   "metadata": {
    "collapsed": false
   },
   "outputs": [],
   "source": [
    "import numpy as np\n",
    "import tflearn\n",
    "import random\n",
    "\n",
    "def create_feature_sets_and_labels():\n",
    "\n",
    "    # known patterns (5 features) output of [1] of positions [0,4]==1\n",
    "    features = []\n",
    "    features.append([[0, 1, 9, 3, 6], [0,1]])\n",
    "    features.append([[0, 1, 7, 4, 2], [0,1]])\n",
    "    features.append([[0, 1, 5, 0, 9], [0,1]])\n",
    "    features.append([[1, 0, 4, 6, 7], [0,1]])\n",
    "    features.append([[1, 0, 3, 7, 8], [0,1]])\n",
    "    features.append([[8, 9, 5, 2, 5], [1,0]])\n",
    "    features.append([[3, 0, 1, 4, 6], [1,0]])\n",
    "    features.append([[5, 2, 0, 1, 4], [1,0]])\n",
    "    features.append([[7, 3, 3, 2, 0], [1,0]])\n",
    "    \n",
    "    # shuffle our features and turn into np.array\n",
    "    random.shuffle(features)\n",
    "    features = np.array(features)\n",
    "\n",
    "    # create train and test lists\n",
    "    train_x = list(features[:,0])\n",
    "    train_y = list(features[:,1])\n",
    "\n",
    "    return train_x, train_y"
   ]
  },
  {
   "cell_type": "code",
   "execution_count": 29,
   "metadata": {
    "collapsed": false
   },
   "outputs": [],
   "source": [
    "train_x, train_y = create_feature_sets_and_labels()"
   ]
  },
  {
   "cell_type": "code",
   "execution_count": 30,
   "metadata": {
    "collapsed": false,
    "scrolled": true
   },
   "outputs": [
    {
     "name": "stdout",
     "output_type": "stream",
     "text": [
      "Training Step: 299  | total loss: \u001b[1m\u001b[32m0.00429\u001b[0m\u001b[0m | time: 0.005s\n",
      "| Adam | epoch: 100 | loss: 0.00429 - acc: 0.9999 -- iter: 8/9\n",
      "Training Step: 300  | total loss: \u001b[1m\u001b[32m0.00418\u001b[0m\u001b[0m | time: 0.008s\n",
      "| Adam | epoch: 100 | loss: 0.00418 - acc: 0.9999 -- iter: 9/9\n",
      "--\n"
     ]
    }
   ],
   "source": [
    "# reset underlying graph data\n",
    "import tensorflow as tf\n",
    "tf.reset_default_graph()\n",
    "# Build neural network\n",
    "net = tflearn.input_data(shape=[None, 5])\n",
    "net = tflearn.fully_connected(net, 32)\n",
    "net = tflearn.fully_connected(net, 32)\n",
    "net = tflearn.fully_connected(net, 2, activation='softmax')\n",
    "net = tflearn.regression(net)\n",
    "\n",
    "# Define model and setup tensorboard\n",
    "model = tflearn.DNN(net, tensorboard_dir='tflearn_logs')\n",
    "# Start training (apply gradient descent algorithm)\n",
    "model.fit(train_x, train_y, n_epoch=100, batch_size=4, show_metric=True)"
   ]
  },
  {
   "cell_type": "code",
   "execution_count": 31,
   "metadata": {
    "collapsed": false
   },
   "outputs": [
    {
     "name": "stdout",
     "output_type": "stream",
     "text": [
      "[[0.5716620087623596, 0.42833802103996277]]\n",
      "[[5.728960604756139e-05, 0.9999426603317261]]\n",
      "[[0.7641104459762573, 0.2358895242214203]]\n",
      "[[1.0, 9.998809558098287e-10]]\n",
      "[[1.0, 1.2301314480933634e-11]]\n",
      "[[0.3441952168941498, 0.6558047533035278]]\n",
      "[[0.05228094384074211, 0.9477190375328064]]\n"
     ]
    }
   ],
   "source": [
    "print(model.predict([[0, 1, 0, 6, 2]]))\n",
    "print(model.predict([[1, 0, 8, 7, 4]]))\n",
    "print(model.predict([[0, 1, 0, 0, 2]])) # wrong\n",
    "\n",
    "print(model.predict([[8, 2, 0, 3, 5]]))\n",
    "print(model.predict([[9, 4, 1, 7, 2]]))\n",
    "print(model.predict([[1, 1, 0, 8, 9]])) # wrong\n",
    "print(model.predict([[0, 0, 2, 5, 1]])) # wrong"
   ]
  },
  {
   "cell_type": "code",
   "execution_count": null,
   "metadata": {
    "collapsed": false
   },
   "outputs": [],
   "source": []
  }
 ],
 "metadata": {
  "kernelspec": {
   "display_name": "Python 3",
   "language": "python",
   "name": "python3"
  },
  "language_info": {
   "codemirror_mode": {
    "name": "ipython",
    "version": 3
   },
   "file_extension": ".py",
   "mimetype": "text/x-python",
   "name": "python",
   "nbconvert_exporter": "python",
   "pygments_lexer": "ipython3",
   "version": "3.5.2"
  }
 },
 "nbformat": 4,
 "nbformat_minor": 1
}
