{
 "cells": [
  {
   "cell_type": "code",
   "execution_count": 36,
   "metadata": {
    "collapsed": false
   },
   "outputs": [],
   "source": [
    "import numpy as np\n",
    "import tflearn\n",
    "import random\n",
    "\n",
    "def create_feature_sets_and_labels():\n",
    "\n",
    "    # known patterns (5 features) output of [1] of positions [0,4]==1\n",
    "    features = []\n",
    "    features.append([[0, 0, 0, 0, 0], [0,1]])\n",
    "    features.append([[0, 0, 0, 0, 1], [0,1]])\n",
    "    features.append([[0, 0, 0, 1, 1], [0,1]])\n",
    "    features.append([[0, 0, 1, 1, 1], [0,1]])\n",
    "    features.append([[0, 1, 1, 1, 1], [0,1]])\n",
    "    features.append([[1, 1, 1, 1, 0], [0,1]])\n",
    "    features.append([[1, 1, 1, 0, 0], [0,1]])\n",
    "    features.append([[1, 1, 0, 0, 0], [0,1]])\n",
    "    features.append([[1, 0, 0, 0, 0], [0,1]])\n",
    "    features.append([[1, 0, 0, 1, 0], [0,1]])\n",
    "    features.append([[1, 0, 1, 1, 0], [0,1]])\n",
    "    features.append([[1, 1, 0, 1, 0], [0,1]])\n",
    "    features.append([[0, 1, 0, 1, 1], [0,1]])\n",
    "    features.append([[0, 0, 1, 0, 1], [0,1]])\n",
    "    features.append([[1, 0, 1, 1, 1], [1,0]])\n",
    "    features.append([[1, 1, 0, 1, 1], [1,0]])\n",
    "    features.append([[1, 0, 1, 0, 1], [1,0]])\n",
    "    features.append([[1, 0, 0, 0, 1], [1,0]])\n",
    "    features.append([[1, 1, 0, 0, 1], [1,0]])\n",
    "    features.append([[1, 1, 1, 0, 1], [1,0]])\n",
    "    features.append([[1, 1, 1, 1, 1], [1,0]])\n",
    "    features.append([[1, 0, 0, 1, 1], [1,0]])\n",
    "\n",
    "    # shuffle our features and turn into np.array\n",
    "    random.shuffle(features)\n",
    "    features = np.array(features)\n",
    "\n",
    "    # create train and test lists\n",
    "    train_x = list(features[:,0])\n",
    "    train_y = list(features[:,1])\n",
    "\n",
    "    return train_x, train_y"
   ]
  },
  {
   "cell_type": "code",
   "execution_count": 37,
   "metadata": {
    "collapsed": false
   },
   "outputs": [],
   "source": [
    "train_x, train_y = create_feature_sets_and_labels()"
   ]
  },
  {
   "cell_type": "code",
   "execution_count": 38,
   "metadata": {
    "collapsed": false
   },
   "outputs": [
    {
     "name": "stdout",
     "output_type": "stream",
     "text": [
      "Training Step: 999  | total loss: \u001b[1m\u001b[32m0.00434\u001b[0m\u001b[0m | time: 0.003s\n",
      "| Adam | epoch: 500 | loss: 0.00434 - acc: 0.9999 -- iter: 16/22\n",
      "Training Step: 1000  | total loss: \u001b[1m\u001b[32m0.00429\u001b[0m\u001b[0m | time: 0.006s\n",
      "| Adam | epoch: 500 | loss: 0.00429 - acc: 0.9999 -- iter: 22/22\n",
      "--\n"
     ]
    }
   ],
   "source": [
    "# reset underlying graph data\n",
    "import tensorflow as tf\n",
    "tf.reset_default_graph()\n",
    "# Build neural network\n",
    "net = tflearn.input_data(shape=[None, 5])\n",
    "net = tflearn.fully_connected(net, 32)\n",
    "net = tflearn.fully_connected(net, 32)\n",
    "net = tflearn.fully_connected(net, 2, activation='softmax')\n",
    "net = tflearn.regression(net)\n",
    "\n",
    "# Define model\n",
    "model = tflearn.DNN(net)\n",
    "# Start training (apply gradient descent algorithm)\n",
    "model.fit(train_x, train_y, n_epoch=500, batch_size=16, show_metric=True)"
   ]
  },
  {
   "cell_type": "code",
   "execution_count": 33,
   "metadata": {
    "collapsed": false
   },
   "outputs": [
    {
     "name": "stdout",
     "output_type": "stream",
     "text": [
      "[1, 1, 1, 1, 1] [[0.9939707517623901, 0.006029300391674042]]\n",
      "[1, 1, 1, 1, 0] [[0.0010782598983496428, 0.9989217519760132]]\n",
      "[1, 1, 0, 0, 1] [[0.997883141040802, 0.0021168675739318132]]\n",
      "[1, 0, 0, 1, 1] [[0.9975355863571167, 0.002464443678036332]]\n"
     ]
    }
   ],
   "source": [
    "for i,t in enumerate(test_x):\n",
    "    print(test_x[i], model.predict([test_x[i]]))"
   ]
  },
  {
   "cell_type": "code",
   "execution_count": null,
   "metadata": {
    "collapsed": false
   },
   "outputs": [],
   "source": []
  }
 ],
 "metadata": {
  "kernelspec": {
   "display_name": "Python 3",
   "language": "python",
   "name": "python3"
  },
  "language_info": {
   "codemirror_mode": {
    "name": "ipython",
    "version": 3
   },
   "file_extension": ".py",
   "mimetype": "text/x-python",
   "name": "python",
   "nbconvert_exporter": "python",
   "pygments_lexer": "ipython3",
   "version": "3.5.2"
  }
 },
 "nbformat": 4,
 "nbformat_minor": 1
}
