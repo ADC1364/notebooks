{
 "cells": [
  {
   "cell_type": "code",
   "execution_count": 29,
   "metadata": {
    "collapsed": false
   },
   "outputs": [
    {
     "data": {
      "text/plain": [
       "'1.0.1'"
      ]
     },
     "execution_count": 29,
     "metadata": {},
     "output_type": "execute_result"
    }
   ],
   "source": [
    "import tensorflow as tf\n",
    "tf.__version__"
   ]
  },
  {
   "cell_type": "code",
   "execution_count": 1,
   "metadata": {
    "collapsed": false
   },
   "outputs": [
    {
     "name": "stdout",
     "output_type": "stream",
     "text": [
      "hdf5 is not supported on this machine (please install/reinstall h5py for optimal experience)\n"
     ]
    }
   ],
   "source": [
    "import numpy as np\n",
    "import tflearn\n",
    "import random\n",
    "\n",
    "def create_feature_sets_and_labels(test_size = 0.2):\n",
    "\n",
    "    # known patterns (5 features) output of [1] of positions [0,4]==1\n",
    "    features = []\n",
    "    features.append([[0, 0, 0, 0, 0], [0,1]])\n",
    "    features.append([[0, 0, 0, 0, 1], [0,1]])\n",
    "    features.append([[0, 0, 0, 1, 1], [0,1]])\n",
    "    features.append([[0, 0, 1, 1, 1], [0,1]])\n",
    "    features.append([[0, 1, 1, 1, 1], [0,1]])\n",
    "    features.append([[1, 1, 1, 1, 0], [0,1]])\n",
    "    features.append([[1, 1, 1, 0, 0], [0,1]])\n",
    "    features.append([[1, 1, 0, 0, 0], [0,1]])\n",
    "    features.append([[1, 0, 0, 0, 0], [0,1]])\n",
    "    features.append([[1, 0, 0, 1, 0], [0,1]])\n",
    "    features.append([[1, 0, 1, 1, 0], [0,1]])\n",
    "    features.append([[1, 1, 0, 1, 0], [0,1]])\n",
    "    features.append([[0, 1, 0, 1, 1], [0,1]])\n",
    "    features.append([[0, 0, 1, 0, 1], [0,1]])\n",
    "    features.append([[1, 0, 1, 1, 1], [1,0]])\n",
    "    features.append([[1, 1, 0, 1, 1], [1,0]])\n",
    "    features.append([[1, 0, 1, 0, 1], [1,0]])\n",
    "    features.append([[1, 0, 0, 0, 1], [1,0]])\n",
    "    features.append([[1, 1, 0, 0, 1], [1,0]])\n",
    "    features.append([[1, 1, 1, 0, 1], [1,0]])\n",
    "    features.append([[1, 1, 1, 1, 1], [1,0]])\n",
    "    features.append([[1, 0, 0, 1, 1], [1,0]])\n",
    "\n",
    "    # shuffle out features and turn into np.array\n",
    "    random.shuffle(features)\n",
    "    features = np.array(features)\n",
    "\n",
    "    # split a portion of the features into tests\n",
    "    testing_size = int(test_size*len(features))\n",
    "\n",
    "    # create train and test lists\n",
    "    train_x = list(features[:,0][:-testing_size])\n",
    "    train_y = list(features[:,1][:-testing_size])\n",
    "    test_x = list(features[:,0][-testing_size:])\n",
    "    test_y = list(features[:,1][-testing_size:])\n",
    "\n",
    "    return train_x, train_y, test_x, test_y"
   ]
  },
  {
   "cell_type": "code",
   "execution_count": 2,
   "metadata": {
    "collapsed": false
   },
   "outputs": [],
   "source": [
    "train_x, train_y, test_x, test_y = create_feature_sets_and_labels()"
   ]
  },
  {
   "cell_type": "code",
   "execution_count": 27,
   "metadata": {
    "collapsed": false
   },
   "outputs": [
    {
     "name": "stdout",
     "output_type": "stream",
     "text": [
      "Training Step: 999  | total loss: \u001b[1m\u001b[32m0.24585\u001b[0m\u001b[0m | time: 0.002s\n",
      "| Adam | epoch: 500 | loss: 0.24585 - acc: 0.9570 -- iter: 16/18\n",
      "Training Step: 1000  | total loss: \u001b[1m\u001b[32m0.22196\u001b[0m\u001b[0m | time: 0.005s\n",
      "| Adam | epoch: 500 | loss: 0.22196 - acc: 0.9613 -- iter: 18/18\n",
      "--\n"
     ]
    }
   ],
   "source": [
    "# reset underlying graph data\n",
    "import tensorflow as tf\n",
    "tf.reset_default_graph()\n",
    "# Build neural network\n",
    "net = tflearn.input_data(shape=[None, 5])\n",
    "net = tflearn.fully_connected(net, 32)\n",
    "net = tflearn.fully_connected(net, 32)\n",
    "net = tflearn.fully_connected(net, 2, activation='softmax')\n",
    "net = tflearn.regression(net)\n",
    "\n",
    "# Define model\n",
    "model = tflearn.DNN(net)\n",
    "# Start training (apply gradient descent algorithm)\n",
    "model.fit(train_x, train_y, n_epoch=500, batch_size=16, show_metric=True)"
   ]
  },
  {
   "cell_type": "code",
   "execution_count": 28,
   "metadata": {
    "collapsed": false
   },
   "outputs": [
    {
     "name": "stdout",
     "output_type": "stream",
     "text": [
      "[1, 1, 1, 1, 1] [[0.9917974472045898, 0.008202536962926388]]\n",
      "[1, 1, 1, 1, 0] [[0.0033489016350358725, 0.9966511130332947]]\n",
      "[1, 1, 0, 0, 1] [[0.9948439598083496, 0.0051560611464083195]]\n",
      "[1, 0, 0, 1, 1] [[0.9970082640647888, 0.002991726389154792]]\n"
     ]
    }
   ],
   "source": [
    "for i,t in enumerate(test_x):\n",
    "    print(test_x[i], model.predict([test_x[i]]))"
   ]
  }
 ],
 "metadata": {
  "kernelspec": {
   "display_name": "Python 3",
   "language": "python",
   "name": "python3"
  },
  "language_info": {
   "codemirror_mode": {
    "name": "ipython",
    "version": 3
   },
   "file_extension": ".py",
   "mimetype": "text/x-python",
   "name": "python",
   "nbconvert_exporter": "python",
   "pygments_lexer": "ipython3",
   "version": "3.5.2"
  }
 },
 "nbformat": 4,
 "nbformat_minor": 1
}
